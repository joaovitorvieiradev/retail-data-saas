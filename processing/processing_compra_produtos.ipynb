{
 "cells": [
  {
   "cell_type": "markdown",
   "id": "7d62085e",
   "metadata": {},
   "source": [
    "### Carregando e criando um tratamento para retirada das linhas aonde o ID é nulo"
   ]
  },
  {
   "cell_type": "code",
   "execution_count": 130,
   "id": "af48f500",
   "metadata": {},
   "outputs": [],
   "source": [
    "import pandas as pd\n",
    "\n",
    "df = pd.read_csv(\"../data/raw_data/compra_produtos.csv\", sep=\";\", encoding=\"ansi\")\n",
    "\n",
    "df.dropna(subset=[\"compra_id\", \"pedido_id\"], inplace=True)"
   ]
  },
  {
   "cell_type": "markdown",
   "id": "89c91564",
   "metadata": {},
   "source": [
    "### Tratando as colunas de datas"
   ]
  },
  {
   "cell_type": "code",
   "execution_count": 131,
   "id": "1ac736fc",
   "metadata": {},
   "outputs": [],
   "source": [
    "df[\"data_pedido\"] = pd.to_datetime(df[\"data_pedido\"], errors='coerce')\n",
    "df[\"data_recebimento\"] = pd.to_datetime(df[\"data_recebimento\"], errors='coerce')\n",
    "df[\"data_producao\"] = pd.to_datetime(df[\"data_producao\"], errors='coerce')\n",
    "df[\"data_validade\"] = pd.to_datetime(df[\"data_validade\"], errors='coerce')"
   ]
  },
  {
   "cell_type": "markdown",
   "id": "65c805d7",
   "metadata": {},
   "source": [
    "### Ajustando as colunas de valores para float e tirando poluição dos dados"
   ]
  },
  {
   "cell_type": "code",
   "execution_count": 132,
   "id": "3cea5f7d",
   "metadata": {},
   "outputs": [],
   "source": [
    "df[\"preco_unit_compra\"] = df[\"preco_unit_compra\"].str.replace(\",\",\".\").str.replace(r\"\\.(?=.*[^\\.])\",\"\")\n",
    "df[\"preco_unit_compra\"] = df[\"preco_unit_compra\"].astype(float)\n",
    "\n",
    "df[\"frete\"] = df[\"frete\"].str.replace(\",\",\".\").str.replace(r\"\\.(?=.*\\.)\",\"\")\n",
    "df[\"frete\"] = df[\"frete\"].astype(float).fillna(0.0)\n",
    "\n",
    "df[\"desconto\"] = df[\"desconto\"].str.replace(\",\",\".\").str.replace(r\"\\.(?=.*\\.)\",\"\")\n",
    "df[\"desconto\"] = df[\"desconto\"].astype(float).fillna(0.0)\n",
    "\n",
    "\n",
    "df[\"custo_total\"] = df[\"custo_total\"].str.replace(\",\",\".\").str.replace(r\"\\.(?=.*\\.)\",\"\")\n",
    "df[\"custo_total\"] = df[\"custo_total\"].astype(float)\n"
   ]
  },
  {
   "cell_type": "markdown",
   "id": "4fd793bd",
   "metadata": {},
   "source": [
    "### Como os dados são de compras já feitas e não pode comprar sem nota estou removendo as linhas que estão sem notas e transformando as que sobraram em inteiro"
   ]
  },
  {
   "cell_type": "code",
   "execution_count": 133,
   "id": "1c761550",
   "metadata": {},
   "outputs": [],
   "source": [
    "\n",
    "df.dropna(subset=[\"nfe\"], inplace=True)\n",
    "df[\"nfe\"] = df[\"nfe\"].astype(int)"
   ]
  },
  {
   "cell_type": "markdown",
   "id": "e64fbf57",
   "metadata": {},
   "source": [
    "### Paronizando colunas do tipo texto"
   ]
  },
  {
   "cell_type": "code",
   "execution_count": 134,
   "id": "f6af3c89",
   "metadata": {},
   "outputs": [],
   "source": [
    "df[\"fornecedor_nome\"] = df[\"fornecedor_nome\"].str.lower().str.strip().str.replace(\" \",\"_\")\n",
    "df[\"descricao_fornecedor\"] = df[\"descricao_fornecedor\"].str.lower().str.strip().str.replace(\" \",\"_\")\n",
    "df[\"marca\"] = df[\"marca\"].str.lower().str.strip().str.replace(\" \",\"_\")\n",
    "df[\"area\"] = df[\"area\"].str.lower().str.strip().str.replace(\" \",\"_\")\n",
    "df[\"loja\"] = df[\"loja\"].str.lower().str.strip().str.replace(\" \",\"_\")"
   ]
  },
  {
   "cell_type": "markdown",
   "id": "4d72c5fe",
   "metadata": {},
   "source": [
    "### Verificando se existem datas de recebimento menores do que as datas do pedido e datas de validade menores que a data de produção, caso existam vou removelas pois não faz sentido e provavelmente foi pedido errado"
   ]
  },
  {
   "cell_type": "code",
   "execution_count": 135,
   "id": "fd179acb",
   "metadata": {},
   "outputs": [],
   "source": [
    "#Verifica se a data de recebimento é menor do que a data de envio se for exclui a linha\n",
    "df[\"validacao_datas\"] = (df[\"data_pedido\"].isna()) | (df[\"data_recebimento\"].isna()) | (df[\"data_recebimento\"] >= df[\"data_pedido\"])\n",
    "\n",
    "datas_erradas = df[df[\"validacao_datas\"] == False].index\n",
    "df = df.drop(datas_erradas)\n",
    "df = df.drop(\"validacao_datas\", axis=1)\n",
    "\n",
    "\n",
    "#Agora a mesma logica para as datas de validade e produção\n",
    "df[\"validacao_datas\"] = (df[\"data_producao\"].isna()) | (df[\"data_validade\"].isna()) | (df[\"data_validade\"] >= df[\"data_producao\"])\n",
    "\n",
    "datas_erradas = df[df[\"validacao_datas\"] == False].index\n",
    "df = df.drop(datas_erradas)\n",
    "df = df.drop(\"validacao_datas\", axis=1)"
   ]
  },
  {
   "cell_type": "code",
   "execution_count": 136,
   "id": "05609779",
   "metadata": {},
   "outputs": [],
   "source": [
    "df.to_parquet(\"../data/processed_data/compra_produtos.parquet\", index=False)"
   ]
  }
 ],
 "metadata": {
  "kernelspec": {
   "display_name": "venv",
   "language": "python",
   "name": "python3"
  },
  "language_info": {
   "codemirror_mode": {
    "name": "ipython",
    "version": 3
   },
   "file_extension": ".py",
   "mimetype": "text/x-python",
   "name": "python",
   "nbconvert_exporter": "python",
   "pygments_lexer": "ipython3",
   "version": "3.13.9"
  }
 },
 "nbformat": 4,
 "nbformat_minor": 5
}
